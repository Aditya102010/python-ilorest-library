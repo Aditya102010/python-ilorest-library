{
 "cells": [
  {
   "cell_type": "markdown",
   "id": "3dfca749-3331-47de-9d47-c705fdbfd813",
   "metadata": {
    "tags": []
   },
   "source": [
    "# Title of the function"
   ]
  },
  {
   "cell_type": "markdown",
   "id": "ac00ccdd-3ac6-49f0-87eb-4f9c9dc185a2",
   "metadata": {},
   "source": [
    "<div class=\"alert alert-block alert-info\">\n",
    "<i>Hello there.!<br></i> Welcome to <b>python-iLOrest-library</b> <br> Here is an example to <b>name of function!!!</b> <br> As you are here let's get it done easily.<br>\n",
    "    To perform this u need to have <a href = \"https://libraries.io/pypi/python-ilorest-library#id3\" style = \"none\">python-ilorest-library</a> installed in your machine.<br>\n",
    "    And please keep your username and password handy!\n",
    "    <br>\n",
    "    <b>Also do execute each successive cell once to avoid any errors!</b>\n",
    "    \n",
    "</div>"
   ]
  },
  {
   "cell_type": "markdown",
   "id": "3a347c8c-d1fb-4ccf-94aa-73d7d0f42199",
   "metadata": {},
   "source": [
    "<div class=\"alert alert-block alert-success\">\n",
    "    <h1> 1.</h1>\n",
    "Below we are importing all the necessary modules from the ilorest library!.<br>\n",
    "    <li><a href = \"https://www.tutorialspoint.com/what-is-python-s-sys-module#:~:text=%20What%20is%20Python%27s%20Sys%20Module%20%201,%5B0%5D%20prints%20the...%205%20Output.%20%20More%20\">sys </a>\n",
    "    </li>\n",
    "    <li>json </li>\n",
    "    <li> redfish </li>\n",
    "    \n",
    "</div>"
   ]
  },
  {
   "cell_type": "code",
   "execution_count": 1,
   "id": "7873d333-4738-4dfc-8cf3-8e424eafaa48",
   "metadata": {},
   "outputs": [],
   "source": [
    "import sys\n",
    "import json\n",
    "from redfish import RedfishClient\n",
    "from redfish.rest.v1 import ServerDownOrUnreachableError\n",
    "\n",
    "from get_resource_directory import get_resource_directory"
   ]
  },
  {
   "cell_type": "markdown",
   "id": "d83f828e-a91e-4efc-b70f-e14a01b3cd44",
   "metadata": {},
   "source": [
    "<div class=\"alert alert-block alert-success\">\n",
    "    <b> <h1> 2.</h1>\"name_of_the_function\" <br> </b> \n",
    "    <p> brief and flow of the below code.</p>\n",
    "</div>"
   ]
  },
  {
   "cell_type": "code",
   "execution_count": null,
   "id": "3e307a7c-e9e0-4033-a9be-374e7ade9e0a",
   "metadata": {},
   "outputs": [],
   "source": [
    "<code goes here>"
   ]
  },
  {
   "cell_type": "markdown",
   "id": "d4e940e6-887e-4e35-8f77-bc331ade4485",
   "metadata": {},
   "source": [
    "<div class=\"alert alert-block alert-success\">\n",
    "<b> <h1> 3.</h1>The Main function: </b> and the User inputs.<br>\n",
    "    \n",
    "</div>"
   ]
  },
  {
   "cell_type": "code",
   "execution_count": null,
   "id": "6398fb6f-5672-4075-bf73-8af549f172de",
   "metadata": {},
   "outputs": [],
   "source": [
    "<main function code>"
   ]
  },
  {
   "cell_type": "markdown",
   "id": "615ad0b4-156f-478d-b6cb-8a12ad7117c3",
   "metadata": {},
   "source": [
    "<div class=\"alert alert-block alert-warning\">\n",
    "Information regarding the User input.\n",
    "</div>"
   ]
  },
  {
   "cell_type": "markdown",
   "id": "8bd8051b-cc81-4dca-8b8f-c86202b35880",
   "metadata": {},
   "source": [
    "links to references"
   ]
  }
 ],
 "metadata": {
  "kernelspec": {
   "display_name": "Python 3 (ipykernel)",
   "language": "python",
   "name": "python3"
  },
  "language_info": {
   "codemirror_mode": {
    "name": "ipython",
    "version": 3
   },
   "file_extension": ".py",
   "mimetype": "text/x-python",
   "name": "python",
   "nbconvert_exporter": "python",
   "pygments_lexer": "ipython3",
   "version": "3.10.1"
  }
 },
 "nbformat": 4,
 "nbformat_minor": 5
}
