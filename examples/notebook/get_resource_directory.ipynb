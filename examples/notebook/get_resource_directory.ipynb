{
 "cells": [
  {
   "cell_type": "markdown",
   "id": "3dfca749-3331-47de-9d47-c705fdbfd813",
   "metadata": {
    "tags": []
   },
   "source": [
    "# Reverting the BIOS to default values"
   ]
  },
  {
   "cell_type": "markdown",
   "id": "ac00ccdd-3ac6-49f0-87eb-4f9c9dc185a2",
   "metadata": {},
   "source": [
    "<div class=\"alert alert-block alert-info\">\n",
    "<b>About: </b> here is brief abstract of the above example\n",
    "</div>"
   ]
  },
  {
   "cell_type": "code",
   "execution_count": 3,
   "id": "7873d333-4738-4dfc-8cf3-8e424eafaa48",
   "metadata": {},
   "outputs": [],
   "source": [
    "import sys\n",
    "import json\n",
    "from redfish import RedfishClient\n",
    "from redfish.rest.v1 import ServerDownOrUnreachableError\n"
   ]
  },
  {
   "cell_type": "markdown",
   "id": "3a347c8c-d1fb-4ccf-94aa-73d7d0f42199",
   "metadata": {},
   "source": [
    "<div class=\"alert alert-block alert-success\">\n",
    "<b> Brief of below funtion: </b> about below function\n",
    "</div>"
   ]
  },
  {
   "cell_type": "code",
   "execution_count": 4,
   "id": "a5f7d7b2-6ab5-473d-ba19-113d603f9e2d",
   "metadata": {},
   "outputs": [],
   "source": [
    "def get_resource_directory(redfishobj):\n",
    "\n",
    "    try:\n",
    "        resource_uri = redfishobj.root.obj.Oem.Hpe.Links.ResourceDirectory['@odata.id']\n",
    "    except KeyError:\n",
    "        sys.stderr.write(\"Resource directory is only available on HPE servers.\\n\")\n",
    "        return None\n",
    "\n",
    "    response = redfishobj.get(resource_uri)\n",
    "    resources = []\n",
    "\n",
    "    if response.status == 200:\n",
    "        sys.stdout.write(\"\\tFound resource directory at /redfish/v1/resourcedirectory\" + \"\\n\\n\")\n",
    "        resources = response.dict[\"Instances\"]\n",
    "    else:\n",
    "        sys.stderr.write(\"\\tResource directory missing at /redfish/v1/resourcedirectory\" + \"\\n\")\n",
    "\n",
    "    return resources"
   ]
  },
  {
   "cell_type": "markdown",
   "id": "d83f828e-a91e-4efc-b70f-e14a01b3cd44",
   "metadata": {},
   "source": [
    "<div class=\"alert alert-block alert-success\">\n",
    "<b> Brief of below funtion: </b> about below function\n",
    "</div>"
   ]
  },
  {
   "cell_type": "code",
   "execution_count": 5,
   "id": "6398fb6f-5672-4075-bf73-8af549f172de",
   "metadata": {},
   "outputs": [],
   "source": [
    "def get_gen(_redfishobj):\n",
    "    rootresp = _redfishobj.root.obj\n",
    "    #Default iLO 5\n",
    "    ilogen = 5\n",
    "    gencompany = next(iter(rootresp.get(\"Oem\", {}).keys()), None) in ('Hpe', 'Hp')\n",
    "    comp = 'Hp' if gencompany else None\n",
    "    comp = 'Hpe' if rootresp.get(\"Oem\", {}).get('Hpe', None) else comp\n",
    "    if comp and next(iter(rootresp.get(\"Oem\", {}).get(comp, {}).get(\"Manager\", {}))).\\\n",
    "                                                                get('ManagerType', None):\n",
    "        ilogen = next(iter(rootresp.get(\"Oem\", {}).get(comp, {}).get(\"Manager\", {})))\\\n",
    "                                                                        .get(\"ManagerType\")\n",
    "        ilover = next(iter(rootresp.get(\"Oem\", {}).get(comp, {}).get(\"Manager\", {}))).\\\n",
    "                                                                 get(\"ManagerFirmwareVersion\")\n",
    "        if ilogen.split(' ')[-1] == \"CM\":\n",
    "        # Assume iLO 4 types in Moonshot\n",
    "            ilogen = 4\n",
    "            iloversion = None\n",
    "        else:\n",
    "            ilogen = ilogen.split(' ')[1]\n",
    "            iloversion = float(ilogen.split(' ')[-1] + '.' + \\\n",
    "                                            ''.join(ilover.split('.')))\n",
    "    return (ilogen, iloversion)\n"
   ]
  }
 ],
 "metadata": {
  "kernelspec": {
   "display_name": "Python 3 (ipykernel)",
   "language": "python",
   "name": "python3"
  },
  "language_info": {
   "codemirror_mode": {
    "name": "ipython",
    "version": 3
   },
   "file_extension": ".py",
   "mimetype": "text/x-python",
   "name": "python",
   "nbconvert_exporter": "python",
   "pygments_lexer": "ipython3",
   "version": "3.9.12"
  }
 },
 "nbformat": 4,
 "nbformat_minor": 5
}
