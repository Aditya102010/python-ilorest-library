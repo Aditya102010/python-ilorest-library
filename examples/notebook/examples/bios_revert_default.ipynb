{
 "cells": [
  {
   "cell_type": "markdown",
   "id": "3dfca749-3331-47de-9d47-c705fdbfd813",
   "metadata": {
    "tags": []
   },
   "source": [
    "# Reverting the BIOS to default values"
   ]
  },
  {
   "cell_type": "markdown",
   "id": "ac00ccdd-3ac6-49f0-87eb-4f9c9dc185a2",
   "metadata": {},
   "source": [
    "<div class=\"alert alert-block alert-info\">\n",
    "<i>Hello there.!<br></i> Welcome to <b>python-iLOrest-library</b> <br> Here is an example to <b>reset your bios to default settings!!</b> <br> As you are here let's get it done easily.<br>\n",
    "    To perform this u need to have <a href = \"https://libraries.io/pypi/python-ilorest-library#id3\" style = \"none\">python-ilorest-library</a> installed in your machine.<br>\n",
    "    And please keep your username and password handy!\n",
    "    <br>\n",
    "    <b>Also do execute each successive cell once to avoid any errors!</b>\n",
    "    \n",
    "</div>"
   ]
  },
  {
   "cell_type": "markdown",
   "id": "658962be-a0df-4696-ab9e-73f844703ff9",
   "metadata": {},
   "source": [
    "<div class=\"alert alert-block alert-success\">\n",
    "Below we are importing all the necessary modules from the ilorest library!.<br>\n",
    "    <li><a href = \"https://www.tutorialspoint.com/what-is-python-s-sys-module#:~:text=%20What%20is%20Python%27s%20Sys%20Module%20%201,%5B0%5D%20prints%20the...%205%20Output.%20%20More%20\">sys </a>\n",
    "    </li>\n",
    "    <li>json </li>\n",
    "    <li> redfish </li>\n",
    "    \n",
    "</div>"
   ]
  },
  {
   "cell_type": "code",
   "execution_count": 1,
   "id": "53341fc4-f674-4781-bcb1-04bb06d3d1fb",
   "metadata": {},
   "outputs": [],
   "source": [
    "import sys\n",
    "import json\n",
    "from redfish import RedfishClient\n",
    "from redfish.rest.v1 import ServerDownOrUnreachableError\n",
    "\n",
    "from get_resource_directory import get_resource_directory"
   ]
  },
  {
   "cell_type": "markdown",
   "id": "3a347c8c-d1fb-4ccf-94aa-73d7d0f42199",
   "metadata": {},
   "source": [
    "<div class=\"alert alert-block alert-success\">\n",
    "<b> Revert BIOS to default: <br> </b> \n",
    "    <ul>\n",
    "    <li> first we need to login to iLO servers so we need <i>system URL, Username,Password</i> with all these obtained we log into iLO servers.\n",
    "    <li> And then we <i>GET</i> the place (directory) that we'll be working on. get_resource_directory module takes care of that and if it doesn't work we manually dive and get the uri.\n",
    "        <li> Once we obtain the directory. We navigate to BIOS property and perform our operation there.\n",
    "        <li> And then we set the <b>Action</b>: to <i>Bios.ResetBios</i>, and  <b>ResetType</b>: to <i>default</i>\n",
    "        <li>And the <i>POST</i> and post the update to the server</li>\n",
    "        <li> Once it is set to default settings we get the response status as 200. If any problem with server we get 400.</li>\n",
    "    </ul>\n",
    "</div>"
   ]
  },
  {
   "cell_type": "code",
   "execution_count": 2,
   "id": "a5f7d7b2-6ab5-473d-ba19-113d603f9e2d",
   "metadata": {},
   "outputs": [],
   "source": [
    "\n",
    "def bios_revert_default(_redfishobj):\n",
    "\n",
    "    bios_reset_action_uri = None\n",
    "    resource_instances = get_resource_directory(_redfishobj)\n",
    "\n",
    "    if DISABLE_RESOURCE_DIR or not resource_instances:\n",
    "        #if we do not have a resource directory or want to force it's non use to find the relevant URI\n",
    "        \n",
    "        systems_uri = _redfishobj.root.obj['Systems']['@odata.id']\n",
    "        systems_response = _redfishobj.get(systems_uri)\n",
    "        systems_members_uri = next(iter(systems_response.obj['Members']))['@odata.id']\n",
    "        systems_members_response = _redfishobj.get(systems_members_uri)\n",
    "        bios_uri = systems_members_response.obj['Bios']['@odata.id']\n",
    "        bios_response = _redfishobj.get(bios_uri)\n",
    "        bios_reset_action_uri = bios_response.obj['Actions']['#Bios.ResetBios']['target']\n",
    "    else:\n",
    "        #Use Resource directory to find the relevant URI\n",
    "        \n",
    "        for instance in resource_instances:\n",
    "            if '#Bios.' in instance['@odata.type']:\n",
    "                bios_uri = instance['@odata.id']\n",
    "                bios_data = _redfishobj.get(bios_uri)\n",
    "                bios_reset_action_uri = bios_data.obj['Actions']['#Bios.ResetBios']['target']\n",
    "                break\n",
    "\n",
    "    body = {'Action': 'Bios.ResetBios', 'ResetType':'default'}\n",
    "    resp = _redfishobj.post(bios_reset_action_uri, body)\n",
    "\n",
    "    #If iLO responds with soemthing outside of 200 or 201 then lets check the iLO extended info\n",
    "    #error message to see what went wrong\n",
    "    if resp.status == 400:\n",
    "        try:\n",
    "            print(json.dumps(resp.obj['error']['@Message.ExtendedInfo'], indent=4, sort_keys=True))\n",
    "        except Exception:\n",
    "            sys.stderr.write(\"A response error occurred, unable to access iLO Extended Message \"\\\n",
    "                             \"Info...\")\n",
    "    elif resp.status != 200:\n",
    "        sys.stderr.write(\"An http response of \\'%s\\' was returned.\\n\" % resp.status)\n",
    "    else:\n",
    "        print(\"Success!\\n\")\n",
    "        print(json.dumps(resp.dict, indent=4, sort_keys=True))\n"
   ]
  },
  {
   "cell_type": "markdown",
   "id": "d83f828e-a91e-4efc-b70f-e14a01b3cd44",
   "metadata": {},
   "source": [
    "<div class=\"alert alert-block alert-success\">\n",
    "<b>The Main function: </b> PLEASE ENTER YOU LOGIN CREDENTIALS HERE.<br>\n",
    "    <ul>\n",
    "        <li>Once you enter everything a redfish obejct is created with the help of RedfishClient class and a session is created and now you will  be logged in to the server</li>\n",
    "        <li>If server is down or Unreachable we get \"server not reachable\" message!</li>\n",
    "        <li>and Once everything is done you are automatically logged out with <b>.logout()<b> 😁. </li>\n",
    "    </ul>\n",
    "</div>"
   ]
  },
  {
   "cell_type": "code",
   "execution_count": null,
   "id": "6398fb6f-5672-4075-bf73-8af549f172de",
   "metadata": {},
   "outputs": [],
   "source": [
    "if __name__ == \"__main__\":\n",
    "    SYSTEM_URL = input(\"Enter System URL: \")\n",
    "    LOGIN_ACCOUNT = input(\"Enter Name: \")\n",
    "    LOGIN_PASSWORD = input(\"Enter password: \")\n",
    "\n",
    "    # flag to force disable resource directory. Resource directory and associated operations are\n",
    "    # intended for HPE servers.\n",
    "    DISABLE_RESOURCE_DIR = False\n",
    "\n",
    "    try:\n",
    "        # Create a Redfish client object\n",
    "        REDFISHOBJ = RedfishClient(base_url=SYSTEM_URL, username=LOGIN_ACCOUNT, password=LOGIN_PASSWORD)\n",
    "                                                                            \n",
    "        # Login with the Redfish client\n",
    "        REDFISHOBJ.login()\n",
    "    except ServerDownOrUnreachableError as excp:\n",
    "        sys.stderr.write(\"ERROR: server not reachable or does not support RedFish.\\n\")\n",
    "        sys.exit()\n",
    "\n",
    "    bios_revert_default(REDFISHOBJ)\n",
    "    REDFISHOBJ.logout()"
   ]
  },
  {
   "cell_type": "markdown",
   "id": "615ad0b4-156f-478d-b6cb-8a12ad7117c3",
   "metadata": {},
   "source": [
    "<div class=\"alert alert-block alert-warning\">\n",
    "<b> When running on the server locally : </b>  use the following values <br>\n",
    "    SYSTEM_URL = None <br>\n",
    "    LOGIN_ACCOUNT = None <br>\n",
    "    LOGIN_PASSWORD = None <br>\n",
    "    <b> When running remotely </b> connect using the secured (https://) address,account name, and password to send https requests <br>\n",
    "    SYSTEM_URL acceptable examples: <br>\n",
    "    \"https://10.0.0.100\" <br>\n",
    "    \"https://ilo.hostname\"\n",
    "</div>"
   ]
  },
  {
   "cell_type": "markdown",
   "id": "d0ded655-d8e4-452d-b181-783a6b1788f5",
   "metadata": {},
   "source": [
    "_HAVING PROBELM???_\n",
    "Please check [here](https://hewlettpackard.github.io/python-ilorest-library/Examples.html#change-bios-setting)"
   ]
  }
 ],
 "metadata": {
  "kernelspec": {
   "display_name": "Python 3 (ipykernel)",
   "language": "python",
   "name": "python3"
  },
  "language_info": {
   "codemirror_mode": {
    "name": "ipython",
    "version": 3
   },
   "file_extension": ".py",
   "mimetype": "text/x-python",
   "name": "python",
   "nbconvert_exporter": "python",
   "pygments_lexer": "ipython3",
   "version": "3.10.1"
  }
 },
 "nbformat": 4,
 "nbformat_minor": 5
}
