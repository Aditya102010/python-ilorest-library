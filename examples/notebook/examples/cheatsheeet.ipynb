{
 "cells": [
  {
   "cell_type": "markdown",
   "id": "bc85a1ba",
   "metadata": {},
   "source": [
    "#  LEVEL 1 HEADING  <br> hey there\n"
   ]
  },
  {
   "cell_type": "markdown",
   "id": "f74f902a",
   "metadata": {},
   "source": [
    "## LEVEL 2 HEADING"
   ]
  },
  {
   "cell_type": "markdown",
   "id": "02915214",
   "metadata": {},
   "source": [
    "### LEVEL 3 HEADING"
   ]
  },
  {
   "cell_type": "markdown",
   "id": "a9c8c04f",
   "metadata": {},
   "source": [
    "#### LEVEL 4 HEADING\n"
   ]
  },
  {
   "cell_type": "markdown",
   "id": "3d8a93f6",
   "metadata": {},
   "source": [
    "- BULLET"
   ]
  },
  {
   "cell_type": "markdown",
   "id": "4d54cc77",
   "metadata": {},
   "source": [
    "- BULLET\n",
    " - SUB BULLET\n",
    "* SOMETHING"
   ]
  },
  {
   "cell_type": "markdown",
   "id": "202f4116",
   "metadata": {},
   "source": [
    "<div class=\"alert alert-block alert-info\">\n",
    "<b>Tip:</b> Use blue boxes (alert-info) for tips and notes. \n",
    "If it’s a note, you don’t have to include the word “Note”.\n",
    "</div>"
   ]
  },
  {
   "cell_type": "markdown",
   "id": "bb6fb5d3",
   "metadata": {},
   "source": [
    "<div class=\"alert alert-block alert-warning\">\n",
    "<b>Example:</b> Use yellow boxes for examples that are not \n",
    "inside code cells, or use for mathematical formulas if needed.\n",
    "</div>"
   ]
  },
  {
   "cell_type": "markdown",
   "id": "9867cdb5",
   "metadata": {},
   "source": [
    "<div class=\"alert alert-block alert-success\">\n",
    "<b>Up to you:</b> Use green boxes sparingly, and only for some specific \n",
    "purpose that the other boxes can't cover. For example, if you have a lot \n",
    "of related content to link to, maybe you decide to use green boxes for \n",
    "related links from each section of a notebook.\n",
    "</div>"
   ]
  },
  {
   "cell_type": "markdown",
   "id": "24617ead",
   "metadata": {},
   "source": [
    "<div class=\"alert alert-block alert-danger\">\n",
    "<b>Just don't:</b> In general, avoid the red boxes. These should only be\n",
    "used for actions that might cause data loss or another major issue.\n",
    "</div>"
   ]
  },
  {
   "cell_type": "markdown",
   "id": "b2280f29",
   "metadata": {},
   "source": [
    "[Section title](#section-title)"
   ]
  },
  {
   "cell_type": "markdown",
   "id": "2c7271d1",
   "metadata": {},
   "source": [
    "**bold text** <br>\n",
    "__bold text__ <br>\n",
    "<b>bold test </b>"
   ]
  },
  {
   "cell_type": "markdown",
   "id": "d0739999",
   "metadata": {},
   "source": [
    "<i>italic</i>\n",
    "*italic*\n",
    "_italic_"
   ]
  },
  {
   "cell_type": "markdown",
   "id": "29596960",
   "metadata": {},
   "source": [
    "___\n",
    "___\n",
    "___\n",
    "<hr>"
   ]
  },
  {
   "cell_type": "markdown",
   "id": "1627284f",
   "metadata": {},
   "source": [
    "<a  href = \"#\"> external link </a>"
   ]
  },
  {
   "cell_type": "markdown",
   "id": "4df6eacd",
   "metadata": {},
   "source": [
    "### table\n",
    "|col1|col2|col3|\n",
    "|----|----|----|\n",
    "|entry1|entry2|entry3|"
   ]
  },
  {
   "cell_type": "code",
   "execution_count": 1,
   "id": "e0e60e4f-9fe3-4676-b216-0007e10ee16b",
   "metadata": {},
   "outputs": [
    {
     "ename": "SyntaxError",
     "evalue": "invalid syntax (1004735957.py, line 1)",
     "output_type": "error",
     "traceback": [
      "\u001b[1;36m  Input \u001b[1;32mIn [1]\u001b[1;36m\u001b[0m\n\u001b[1;33m    <div class=\"admonition important\"> <p>This is an admonition box without a title.</p> </div>\u001b[0m\n\u001b[1;37m    ^\u001b[0m\n\u001b[1;31mSyntaxError\u001b[0m\u001b[1;31m:\u001b[0m invalid syntax\n"
     ]
    }
   ],
   "source": []
  },
  {
   "cell_type": "code",
   "execution_count": null,
   "id": "28dfca67-eb27-4482-b050-d19f4754547b",
   "metadata": {},
   "outputs": [],
   "source": []
  }
 ],
 "metadata": {
  "kernelspec": {
   "display_name": "Python 3 (ipykernel)",
   "language": "python",
   "name": "python3"
  },
  "language_info": {
   "codemirror_mode": {
    "name": "ipython",
    "version": 3
   },
   "file_extension": ".py",
   "mimetype": "text/x-python",
   "name": "python",
   "nbconvert_exporter": "python",
   "pygments_lexer": "ipython3",
   "version": "3.10.1"
  }
 },
 "nbformat": 4,
 "nbformat_minor": 5
}
