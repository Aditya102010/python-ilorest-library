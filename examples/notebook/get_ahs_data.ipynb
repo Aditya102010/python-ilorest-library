{
 "cells": [
  {
   "cell_type": "markdown",
   "id": "1e7a9a06",
   "metadata": {},
   "source": [
    "___"
   ]
  },
  {
   "cell_type": "markdown",
   "id": "b2002b23",
   "metadata": {},
   "source": [
    "# An example of gathering AHS data for HPE iLO systems"
   ]
  },
  {
   "cell_type": "markdown",
   "id": "1742e47c",
   "metadata": {},
   "source": [
    "___"
   ]
  },
  {
   "cell_type": "markdown",
   "id": "9f8e5c90",
   "metadata": {},
   "source": [
    "___"
   ]
  },
  {
   "cell_type": "code",
   "execution_count": 1,
   "id": "85414ceb",
   "metadata": {},
   "outputs": [],
   "source": [
    "import sys\n",
    "import json"
   ]
  },
  {
   "cell_type": "markdown",
   "id": "92289a7d",
   "metadata": {},
   "source": [
    "_importing python modules_"
   ]
  },
  {
   "cell_type": "code",
   "execution_count": 2,
   "id": "702b0555",
   "metadata": {},
   "outputs": [
    {
     "ename": "ModuleNotFoundError",
     "evalue": "No module named 'redfish'",
     "output_type": "error",
     "traceback": [
      "\u001b[1;31m---------------------------------------------------------------------------\u001b[0m",
      "\u001b[1;31mModuleNotFoundError\u001b[0m                       Traceback (most recent call last)",
      "Input \u001b[1;32mIn [2]\u001b[0m, in \u001b[0;36m<cell line: 1>\u001b[1;34m()\u001b[0m\n\u001b[1;32m----> 1\u001b[0m \u001b[38;5;28;01mfrom\u001b[39;00m \u001b[38;5;21;01mredfish\u001b[39;00m \u001b[38;5;28;01mimport\u001b[39;00m RedfishClient\n\u001b[0;32m      2\u001b[0m \u001b[38;5;28;01mfrom\u001b[39;00m \u001b[38;5;21;01mredfish\u001b[39;00m\u001b[38;5;21;01m.\u001b[39;00m\u001b[38;5;21;01mrest\u001b[39;00m\u001b[38;5;21;01m.\u001b[39;00m\u001b[38;5;21;01mv1\u001b[39;00m \u001b[38;5;28;01mimport\u001b[39;00m ServerDownOrUnreachableError\n\u001b[0;32m      3\u001b[0m \u001b[38;5;28;01mfrom\u001b[39;00m \u001b[38;5;21;01mget_resource_directory\u001b[39;00m \u001b[38;5;28;01mimport\u001b[39;00m get_resource_directory\n",
      "\u001b[1;31mModuleNotFoundError\u001b[0m: No module named 'redfish'"
     ]
    }
   ],
   "source": [
    "from redfish import RedfishClient\n",
    "from redfish.rest.v1 import ServerDownOrUnreachableError\n",
    "from get_resource_directory import get_resource_directory"
   ]
  },
  {
   "cell_type": "markdown",
   "id": "2995652e",
   "metadata": {},
   "source": [
    "<div class=\"alert alert-block alert-info\">\n",
    "<b>---:</b> using refish libraries\n",
    "</div>"
   ]
  },
  {
   "cell_type": "code",
   "execution_count": 3,
   "id": "6dad3a7a",
   "metadata": {},
   "outputs": [],
   "source": [
    "def get_ahs_data(_redfishobj, logfile):\n",
    "\n",
    "    active_health_system_uri = None\n",
    "\n",
    "    resource_instances = get_resource_directory(_redfishobj)\n",
    "    if DISABLE_RESOURCE_DIR or not resource_instances:\n",
    "        \n",
    "        managers_uri = _redfishobj.root.obj['Managers']['@odata.id']\n",
    "        managers_response = _redfishobj.get(managers_uri)\n",
    "        managers_members_uri = next(iter(managers_response.obj['Members']))['@odata.id']\n",
    "        managers_members_response = _redfishobj.get(managers_members_uri)\n",
    "        active_health_system_uri = managers_members_response.obj.Oem.Hpe.Links\\\n",
    "                                    ['ActiveHealthSystem']['@odata.id']\n",
    "    else:\n",
    "        #Use Resource directory to find the relevant URI\n",
    "        for instance in resource_instances:\n",
    "            if '#HpeiLOActiveHealthSystem.' in instance['@odata.type']:\n",
    "                active_health_system_uri = instance['@odata.id']\n",
    "\n",
    "    if active_health_system_uri:\n",
    "        active_health_system_response = _redfishobj.get(active_health_system_uri)\n",
    "        active_health_system_log_uri = active_health_system_response.obj.Links['AHSLocation']\\\n",
    "                                                                                        ['extref']\n",
    "        active_health_system_log_resp = _redfishobj.get(active_health_system_log_uri)\n",
    "        if active_health_system_log_resp.status == 400:\n",
    "            try:\n",
    "                print(json.dumps(active_health_system_log_resp.obj['error']\\\n",
    "                                 ['@Message.ExtendedInfo'], indent=4, sort_keys=True))\n",
    "            except Exception:\n",
    "                sys.stderr.write(\"A response error occurred, unable to access iLO Extended \"\\\n",
    "                                 \"Message Info...\")\n",
    "        elif active_health_system_log_resp.status != 200:\n",
    "            sys.stderr.write(\"An http response of \\'%s\\' was returned.\\n\" % resp.status)\n",
    "        else:\n",
    "            print(\"Success!\\n\")\n",
    "            with open(logfile, 'wb') as ahsoutput:\n",
    "                ahsoutput.write(active_health_system_log_resp.ori)\n",
    "                ahsoutput.close()\n",
    "                sys.stdout.write(\"AHS Data saved successfully as: \\'%s\\'\" % logfile)\n"
   ]
  },
  {
   "cell_type": "markdown",
   "id": "6da171c2",
   "metadata": {},
   "source": [
    "\n",
    "\n",
    "<div class=\"alert alert-block alert-warning\">\n",
    "<b>if condition:</b> if we do not have a resource directory or want to force it's non use to find the relevant URI<br>\n",
    "    <b>else:</b>Use Resource directory to find the relevant URI\n",
    "</div>"
   ]
  },
  {
   "cell_type": "markdown",
   "id": "041049da",
   "metadata": {},
   "source": [
    "<div class=\"alert alert-block alert-info\">\n",
    "<b>When running on the server locally use the following commented values</b> \n",
    "    SYSTEM_URL = None<br>\n",
    "    LOGIN_ACCOUNT = None<br>\n",
    "    LOGIN_PASSWORD = None<br>\n",
    "</div>\n",
    "    "
   ]
  },
  {
   "cell_type": "markdown",
   "id": "c16e338f",
   "metadata": {},
   "source": [
    "<div class=\"alert alert-block alert-info\">\n",
    "<b>When running remotely</b> \n",
    "    connect using the secured (https://) address,\n",
    "    # account name, and password to send https requests\n",
    "    # SYSTEM_URL acceptable examples:<br>\n",
    "    # \"https://10.0.0.100\"<br>\n",
    "    # \"https://ilo.hostname\"<br>\n",
    "</div>\n"
   ]
  },
  {
   "cell_type": "code",
   "execution_count": 4,
   "id": "00c46f0b",
   "metadata": {},
   "outputs": [
    {
     "ename": "NameError",
     "evalue": "name 'ServerDownOrUnreachableError' is not defined",
     "output_type": "error",
     "traceback": [
      "\u001b[1;31m---------------------------------------------------------------------------\u001b[0m",
      "\u001b[1;31mNameError\u001b[0m                                 Traceback (most recent call last)",
      "Input \u001b[1;32mIn [4]\u001b[0m, in \u001b[0;36m<cell line: 1>\u001b[1;34m()\u001b[0m\n\u001b[0;32m     12\u001b[0m \u001b[38;5;28;01mtry\u001b[39;00m:\n\u001b[0;32m     13\u001b[0m     \u001b[38;5;66;03m# Create a Redfish client object\u001b[39;00m\n\u001b[1;32m---> 14\u001b[0m     REDFISHOBJ \u001b[38;5;241m=\u001b[39m \u001b[43mRedfishClient\u001b[49m(base_url\u001b[38;5;241m=\u001b[39mSYSTEM_URL, username\u001b[38;5;241m=\u001b[39mLOGIN_ACCOUNT, \\\n\u001b[0;32m     15\u001b[0m                                                                         password\u001b[38;5;241m=\u001b[39mLOGIN_PASSWORD)\n\u001b[0;32m     16\u001b[0m     \u001b[38;5;66;03m# Login with the Redfish client\u001b[39;00m\n",
      "\u001b[1;31mNameError\u001b[0m: name 'RedfishClient' is not defined",
      "\nDuring handling of the above exception, another exception occurred:\n",
      "\u001b[1;31mNameError\u001b[0m                                 Traceback (most recent call last)",
      "Input \u001b[1;32mIn [4]\u001b[0m, in \u001b[0;36m<cell line: 1>\u001b[1;34m()\u001b[0m\n\u001b[0;32m     16\u001b[0m     \u001b[38;5;66;03m# Login with the Redfish client\u001b[39;00m\n\u001b[0;32m     17\u001b[0m     REDFISHOBJ\u001b[38;5;241m.\u001b[39mlogin()\n\u001b[1;32m---> 18\u001b[0m \u001b[38;5;28;01mexcept\u001b[39;00m \u001b[43mServerDownOrUnreachableError\u001b[49m \u001b[38;5;28;01mas\u001b[39;00m excp:\n\u001b[0;32m     19\u001b[0m     sys\u001b[38;5;241m.\u001b[39mstderr\u001b[38;5;241m.\u001b[39mwrite(\u001b[38;5;124m\"\u001b[39m\u001b[38;5;124mERROR: server not reachable or does not support RedFish.\u001b[39m\u001b[38;5;130;01m\\n\u001b[39;00m\u001b[38;5;124m\"\u001b[39m)\n\u001b[0;32m     20\u001b[0m     sys\u001b[38;5;241m.\u001b[39mexit()\n",
      "\u001b[1;31mNameError\u001b[0m: name 'ServerDownOrUnreachableError' is not defined"
     ]
    }
   ],
   "source": [
    "if __name__ == \"__main__\":\n",
    "    SYSTEM_URL = \"https://10.0.0.100\"\n",
    "    LOGIN_ACCOUNT = \"admin\"\n",
    "    LOGIN_PASSWORD = \"password\"\n",
    "\n",
    "    # logfile path and filename\n",
    "    LOGFILE = \"data.ahs\"\n",
    "   \n",
    "    DISABLE_RESOURCE_DIR = False\n",
    "\n",
    "    try:\n",
    "        # Create a Redfish client object\n",
    "        REDFISHOBJ = RedfishClient(base_url=SYSTEM_URL, username=LOGIN_ACCOUNT, \\\n",
    "                                                                            password=LOGIN_PASSWORD)\n",
    "        # Login with the Redfish client\n",
    "        REDFISHOBJ.login()\n",
    "    except ServerDownOrUnreachableError as excp:\n",
    "        sys.stderr.write(\"ERROR: server not reachable or does not support RedFish.\\n\")\n",
    "        sys.exit()\n",
    "\n",
    "    get_ahs_data(REDFISHOBJ, LOGFILE)\n",
    "    REDFISHOBJ.logout()\n"
   ]
  },
  {
   "cell_type": "markdown",
   "id": "14bee5cd",
   "metadata": {},
   "source": [
    "<div class=\"alert alert-block alert-danger\">\n",
    "<b>Just don't:</b>\n",
    "     flag to force disable resource directory. Resource directory and associated operations are  intended for HPE servers.\n",
    "</div>"
   ]
  },
  {
   "cell_type": "code",
   "execution_count": null,
   "id": "7d001ff8",
   "metadata": {},
   "outputs": [],
   "source": []
  }
 ],
 "metadata": {
  "kernelspec": {
   "display_name": "Python 3 (ipykernel)",
   "language": "python",
   "name": "python3"
  },
  "language_info": {
   "codemirror_mode": {
    "name": "ipython",
    "version": 3
   },
   "file_extension": ".py",
   "mimetype": "text/x-python",
   "name": "python",
   "nbconvert_exporter": "python",
   "pygments_lexer": "ipython3",
   "version": "3.9.12"
  }
 },
 "nbformat": 4,
 "nbformat_minor": 5
}
